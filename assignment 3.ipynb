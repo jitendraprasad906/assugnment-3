{
 "cells": [
  {
   "cell_type": "code",
   "execution_count": 4,
   "id": "2c6558d3-bca5-40de-8298-2aafb06b1020",
   "metadata": {},
   "outputs": [
    {
     "name": "stdout",
     "output_type": "stream",
     "text": [
      "10\n"
     ]
    }
   ],
   "source": [
    "#assignment 3\n",
    "# python keywords\n",
    "#1)Python Keywords are some predefined and reserved words in Python that have special meanings.\n",
    "#Keywords are used to define the syntax of the coding.\n",
    "#The keyword cannot be used as an identifier, function, or variable name\n",
    "\n",
    "#examples\n",
    "#while\n",
    "#for\n",
    "#else\n",
    "#if\n",
    "#True\n",
    "\n",
    "#2) Rules for Naming Python Identifiers\n",
    "#It cannot be a reserved python keyword.\n",
    "#It should not contain white space.\n",
    "#It can be a combination of A-Z, a-z, 0-9, or underscore.\n",
    "#It should start with an alphabet character or an underscore ( _ ).\n",
    "#It should not contain any special character other than an underscore ( _ ).\n",
    "#Examples of Python Identifier\n",
    "# num\n",
    "# break\n",
    "# continue\n",
    "# return\n",
    "\n",
    "#3) comments\n",
    "# comments are extra information that we provide in a statement to make it \n",
    "# easy to understand to the other user\n",
    "\n",
    "#for defining any comments we need to first start with (#) and then describe \n",
    "#the given statement \n",
    "\n",
    "#example\n",
    "a=10 # a be any integer\n",
    "print( a)  "
   ]
  },
  {
   "cell_type": "code",
   "execution_count": 5,
   "id": "09d7a93f-481c-4cd7-b58b-efe1a42ffb25",
   "metadata": {},
   "outputs": [
    {
     "name": "stdout",
     "output_type": "stream",
     "text": [
      "Logging on to jitu\n",
      "All set !\n"
     ]
    }
   ],
   "source": [
    "#4)\n",
    "#Python indentation refers to adding white space before a statement to a particular block of code. \n",
    "#In another word, all the statements with the same space to the right, belong to the same code block \n",
    "\n",
    "#importance of indentation\n",
    "\n",
    "#Good Python indentation is necessary to make your code readable and easy to understand,\n",
    "#both for yourself and others who may read your code later.\n",
    "\n",
    "\n",
    "#5) What happens if indentation is incorrect in Python6\n",
    "#Good Python indentation is necessary to make your code readable and easy to understand, both for yourself and others who may read your code later.if our program does'nt have  proper indentation while running the program \n",
    "# it will show error that in line (x.y,z) there is lack of indentation\n",
    "\n",
    "\n",
    "#6) Differentiate 0etween expression and statement in Python with examples\n",
    "\n",
    "#An expression is a combination of operators and operands that is interpreted to produce some other value.\n",
    "#In any programming language, an expression is evaluated as per the precedence of its operators.\n",
    "#example of expression\n",
    "#integral expression a = 3\n",
    "#b = 2.0\n",
    "  \n",
    "#c = a + int(b) \n",
    "#print(c) \n",
    "\n",
    "#floating expression a = 23\n",
    "#b = 5\n",
    "  \n",
    "#c = a / b\n",
    "#algebraic expression\n",
    "# x + y\tAddition\n",
    "\n",
    "#statement\n",
    "#A Python statement is an instruction that the Python interpreter can execute.\n",
    "#There are different types of statements in Python language as Assignment statements, Conditional statements, Looping statements, etc.\n",
    "#The token character NEWLINE is used to end a statement in Python. \n",
    "#It signifies that each line of a Python script contains a statement. \n",
    "#These all help the user to get the required output.\n",
    "#The different types of Python statements are listed below:\n",
    "\n",
    "#Multi-Line Statements\n",
    "#Python Conditional and Loop Statements\n",
    "#Python If-else\n",
    "#Python for loop\n",
    "#Python while loop \n",
    "#Python try-except\n",
    "#Python with statement\n",
    "\n",
    "\n",
    "#example\n",
    "\n",
    "site = 'jitu'\n",
    "\n",
    "if site == 'jitu':\n",
    "\tprint('Logging on to jitu')\n",
    "else:\n",
    "\tprint('retype the URL.')\n",
    "print('All set !')\n"
   ]
  },
  {
   "cell_type": "code",
   "execution_count": null,
   "id": "b6783f08-33ab-4c53-bf44-ecfdb9f63dca",
   "metadata": {},
   "outputs": [],
   "source": []
  }
 ],
 "metadata": {
  "kernelspec": {
   "display_name": "Python 3 (ipykernel)",
   "language": "python",
   "name": "python3"
  },
  "language_info": {
   "codemirror_mode": {
    "name": "ipython",
    "version": 3
   },
   "file_extension": ".py",
   "mimetype": "text/x-python",
   "name": "python",
   "nbconvert_exporter": "python",
   "pygments_lexer": "ipython3",
   "version": "3.10.8"
  }
 },
 "nbformat": 4,
 "nbformat_minor": 5
}
